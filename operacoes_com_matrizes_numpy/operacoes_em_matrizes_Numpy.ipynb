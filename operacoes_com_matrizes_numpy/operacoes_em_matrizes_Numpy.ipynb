{
  "nbformat": 4,
  "nbformat_minor": 0,
  "metadata": {
    "colab": {
      "name": "Python_operações_em_matrizes_Numpy.ipynb",
      "provenance": []
    },
    "kernelspec": {
      "name": "python3",
      "display_name": "Python 3"
    },
    "language_info": {
      "name": "python"
    }
  },
  "cells": [
    {
      "cell_type": "markdown",
      "metadata": {
        "id": "jz26xpYQEZ5i"
      },
      "source": [
        "# Operações em Matrizes Numpy"
      ]
    },
    {
      "cell_type": "code",
      "metadata": {
        "id": "nMmiVUaeElNl"
      },
      "source": [
        "import numpy as np"
      ],
      "execution_count": null,
      "outputs": []
    },
    {
      "cell_type": "code",
      "metadata": {
        "colab": {
          "base_uri": "https://localhost:8080/"
        },
        "id": "um6ROj9Fvtc3",
        "outputId": "178d5710-556d-4fae-e8e6-dcac9289bbc9"
      },
      "source": [
        "np.arange(6, 10)"
      ],
      "execution_count": null,
      "outputs": [
        {
          "output_type": "execute_result",
          "data": {
            "text/plain": [
              "array([6, 7, 8, 9])"
            ]
          },
          "metadata": {
            "tags": []
          },
          "execution_count": 118
        }
      ]
    },
    {
      "cell_type": "markdown",
      "metadata": {
        "id": "J252Cf1dEUOU"
      },
      "source": [
        "## Operações em uma matriz **1D**\n"
      ]
    },
    {
      "cell_type": "markdown",
      "metadata": {
        "id": "i4jSelpoEzlW"
      },
      "source": [
        "Operadores aritiméticos com Numpy\n",
        "\n",
        "\n",
        "Para esse primeiro exemplo, vamos soma duas matrizes 1D de mesmo tamanho, para que a soma possa ser realizada as matrizes devem ter mesma quantidade de itens, nesse exemplo cada matriz possue 5 elementos"
      ]
    },
    {
      "cell_type": "markdown",
      "metadata": {
        "id": "KRK2o4lcGXsV"
      },
      "source": [
        "mas posições correspondentes de cada matriz se soma"
      ]
    },
    {
      "cell_type": "code",
      "metadata": {
        "id": "Yfkog5GD4--B",
        "colab": {
          "base_uri": "https://localhost:8080/"
        },
        "outputId": "99b9e2e4-0d18-4115-c81c-33d2c478e43d"
      },
      "source": [
        "# Matriz 1D com 5 elementos\n",
        "matriz1 = np.arange(6, 11) \n",
        "\n",
        "# Matriz 1D com 5 elementos\n",
        "matriz2 = np.array([1, 2, 3, 4, 5])\n",
        "\n",
        "# Soma entre os elementos das matrizes: matriz1 + Matriz2\n",
        "matriz3 = matriz1 + matriz2\n",
        "\n",
        "# Subtração entre os elementos das matrizes: matriz1 + Matriz2\n",
        "matriz4 = matriz1 - matriz2\n",
        "\n",
        "# Multiplicação entre os elementos das matrizes: matriz1 + Matriz2\n",
        "matriz5 = matriz1 * matriz2\n",
        "\n",
        "# Divição entre os elementos das matrizes: matriz1 + Matriz2\n",
        "matriz6 = matriz1 / matriz2\n",
        "\n",
        "print(f\"Matriz1 : {matriz1}\")\n",
        "print(f\"Matriz2 : {matriz2}\")\n",
        "print()\n",
        "print(f\"matriz1 + matriz2: {matriz3}\")\n",
        "print(f\"matriz1 - matriz2: {matriz4}\")\n",
        "print(f\"matriz1 * matriz2: {matriz5}\")\n",
        "print(f\"matriz1 / matriz2: {matriz6}\")\n"
      ],
      "execution_count": null,
      "outputs": [
        {
          "output_type": "stream",
          "text": [
            "Matriz1 : [ 6  7  8  9 10]\n",
            "Matriz2 : [1 2 3 4 5]\n",
            "\n",
            "matriz1 + matriz2: [ 7  9 11 13 15]\n",
            "matriz1 - matriz2: [5 5 5 5 5]\n",
            "matriz1 * matriz2: [ 6 14 24 36 50]\n",
            "matriz1 / matriz2: [6.         3.5        2.66666667 2.25       2.        ]\n"
          ],
          "name": "stdout"
        }
      ]
    },
    {
      "cell_type": "markdown",
      "metadata": {
        "id": "_fm643fCwFtN"
      },
      "source": [
        "\n",
        "Caso você tentar somar matrizes de mesma dimensão, mas com quantidades de elementos diferentes ocorrerar um erro"
      ]
    },
    {
      "cell_type": "code",
      "metadata": {
        "id": "l69lvSo2FEwS",
        "colab": {
          "base_uri": "https://localhost:8080/",
          "height": 205
        },
        "outputId": "fd1b0183-245a-4463-d7a1-1da454dfa262"
      },
      "source": [
        "matriz7 = np.array([1, 2, 3, 4])\n",
        "\n",
        "matriz1 + matriz7"
      ],
      "execution_count": null,
      "outputs": [
        {
          "output_type": "error",
          "ename": "ValueError",
          "evalue": "ignored",
          "traceback": [
            "\u001b[0;31m---------------------------------------------------------------------------\u001b[0m",
            "\u001b[0;31mValueError\u001b[0m                                Traceback (most recent call last)",
            "\u001b[0;32m<ipython-input-123-ff711ec3a6a9>\u001b[0m in \u001b[0;36m<module>\u001b[0;34m()\u001b[0m\n\u001b[1;32m      1\u001b[0m \u001b[0mmatriz7\u001b[0m \u001b[0;34m=\u001b[0m \u001b[0mnp\u001b[0m\u001b[0;34m.\u001b[0m\u001b[0marray\u001b[0m\u001b[0;34m(\u001b[0m\u001b[0;34m[\u001b[0m\u001b[0;36m1\u001b[0m\u001b[0;34m,\u001b[0m \u001b[0;36m2\u001b[0m\u001b[0;34m,\u001b[0m \u001b[0;36m3\u001b[0m\u001b[0;34m,\u001b[0m \u001b[0;36m4\u001b[0m\u001b[0;34m]\u001b[0m\u001b[0;34m)\u001b[0m\u001b[0;34m\u001b[0m\u001b[0;34m\u001b[0m\u001b[0m\n\u001b[1;32m      2\u001b[0m \u001b[0;34m\u001b[0m\u001b[0m\n\u001b[0;32m----> 3\u001b[0;31m \u001b[0mmatriz1\u001b[0m \u001b[0;34m+\u001b[0m \u001b[0mmatriz7\u001b[0m\u001b[0;34m\u001b[0m\u001b[0;34m\u001b[0m\u001b[0m\n\u001b[0m",
            "\u001b[0;31mValueError\u001b[0m: operands could not be broadcast together with shapes (5,) (4,) "
          ]
        }
      ]
    },
    {
      "cell_type": "markdown",
      "metadata": {
        "id": "d2HbYf0owrQo"
      },
      "source": [
        "## Operações aritiméticas em matrizes por um Escalar\n",
        "\n",
        "É possível aplicar um operador aritimético na matriz com um Escalar, todos os elementos da matriz irá sofrer a ação desse operador individualmente"
      ]
    },
    {
      "cell_type": "code",
      "metadata": {
        "colab": {
          "base_uri": "https://localhost:8080/"
        },
        "id": "SBXG830zwjo3",
        "outputId": "b37dba67-4faa-4d1c-dded-c94505bd05be"
      },
      "source": [
        "m8 = np.array([1, 2, 3, 4, 5])\n",
        "\n",
        "print(f\"Matriz m8: {m8}\")\n",
        "\n",
        "print()\n",
        "\n",
        "# Somando a matriz com um escalar\n",
        "print(f\"m8 + 2:  {m8 + 2}\")\n",
        "\n",
        "# Subtração de matriz com um escalar\n",
        "print(f\"m8 - 2:  {m8 - 2}\")\n",
        "\n",
        "# Multiplicando por Escalar\n",
        "print(f\"m8 * 2:  {m8 * 2}\")\n",
        "\n",
        "# Divisão de matriz por um Escalar\n",
        "print(f\"m8 / 2:  {m8 / 2}\")\n",
        "\n",
        "# elevando a matriz a uma potência\n",
        "print(f\"m8 ** 2: {m8 ** 2}\")\n",
        "\n"
      ],
      "execution_count": null,
      "outputs": [
        {
          "output_type": "stream",
          "text": [
            "Matriz m8: [1 2 3 4 5]\n",
            "\n",
            "m8 + 2:  [3 4 5 6 7]\n",
            "m8 - 2:  [-1  0  1  2  3]\n",
            "m8 * 2:  [ 2  4  6  8 10]\n",
            "m8 / 2:  [0.5 1.  1.5 2.  2.5]\n",
            "m8 ** 2: [ 1  4  9 16 25]\n"
          ],
          "name": "stdout"
        }
      ]
    },
    {
      "cell_type": "markdown",
      "metadata": {
        "id": "tgb80SaLUCES"
      },
      "source": [
        "## Usando Numpy com Expressões Condicionais\n",
        "\n",
        "Podemos usar expressões condicionais para retorna valores booleanos nas posições dos elementos da matriz\n"
      ]
    },
    {
      "cell_type": "code",
      "metadata": {
        "id": "BGGln_gAxDGD",
        "colab": {
          "base_uri": "https://localhost:8080/"
        },
        "outputId": "6ee07499-5396-4522-c4a6-ead20bdd5a84"
      },
      "source": [
        "matriz6 = np.array([7, -3, 4, 2, 7, 3, 8, 9, 1])\n",
        "print(matriz6)\n",
        "\n",
        "# Aplicando expressões condicionais ma matriz6 \n",
        "m7 = matriz6 > 5\n",
        "print(m7)"
      ],
      "execution_count": null,
      "outputs": [
        {
          "output_type": "stream",
          "text": [
            "[ 7 -3  4  2  7  3  8  9  1]\n",
            "[ True False False False  True False  True  True False]\n"
          ],
          "name": "stdout"
        }
      ]
    },
    {
      "cell_type": "code",
      "metadata": {
        "colab": {
          "base_uri": "https://localhost:8080/"
        },
        "id": "xDAaGJCYVcKu",
        "outputId": "fa72a8e3-15d5-4e45-db82-583c6619b082"
      },
      "source": [
        "# Além disso, podemos pegar os elementos das posições True da matriz usando o seguinte código\n",
        "matriz6[m7]"
      ],
      "execution_count": null,
      "outputs": [
        {
          "output_type": "execute_result",
          "data": {
            "text/plain": [
              "array([7, 7, 8, 9])"
            ]
          },
          "metadata": {
            "tags": []
          },
          "execution_count": 38
        }
      ]
    },
    {
      "cell_type": "code",
      "metadata": {
        "colab": {
          "base_uri": "https://localhost:8080/"
        },
        "id": "28-PprBuWEmE",
        "outputId": "78b8e093-fc63-4c0d-91a5-2141498029cf"
      },
      "source": [
        "# Outra forma de obter o mesmo resultado anterior é a seguinte sintax\n",
        "matriz6[matriz6 > 5]"
      ],
      "execution_count": null,
      "outputs": [
        {
          "output_type": "execute_result",
          "data": {
            "text/plain": [
              "array([7, 7, 8, 9])"
            ]
          },
          "metadata": {
            "tags": []
          },
          "execution_count": 39
        }
      ]
    },
    {
      "cell_type": "markdown",
      "metadata": {
        "id": "qJelwgpqWsb_"
      },
      "source": [
        "# Operações em Matrizes 2D\n"
      ]
    },
    {
      "cell_type": "code",
      "metadata": {
        "id": "3PgihXcdWlnl"
      },
      "source": [
        "M1 = np.array([[1,2],[3,4]])\n",
        "M2 = np.array([[1,2],[3,4]])"
      ],
      "execution_count": null,
      "outputs": []
    },
    {
      "cell_type": "code",
      "metadata": {
        "colab": {
          "base_uri": "https://localhost:8080/"
        },
        "id": "r-POZdpZXHqX",
        "outputId": "e90b2515-7323-48bd-9360-decdbc21a615"
      },
      "source": [
        "M1"
      ],
      "execution_count": null,
      "outputs": [
        {
          "output_type": "execute_result",
          "data": {
            "text/plain": [
              "array([[1, 2],\n",
              "       [3, 4]])"
            ]
          },
          "metadata": {
            "tags": []
          },
          "execution_count": 41
        }
      ]
    },
    {
      "cell_type": "code",
      "metadata": {
        "colab": {
          "base_uri": "https://localhost:8080/"
        },
        "id": "wbRUOywTYFKk",
        "outputId": "412bab3c-a2e6-4d14-ca81-d651a5bc9854"
      },
      "source": [
        "M2"
      ],
      "execution_count": null,
      "outputs": [
        {
          "output_type": "execute_result",
          "data": {
            "text/plain": [
              "array([[1, 2],\n",
              "       [3, 4]])"
            ]
          },
          "metadata": {
            "tags": []
          },
          "execution_count": 42
        }
      ]
    },
    {
      "cell_type": "code",
      "metadata": {
        "colab": {
          "base_uri": "https://localhost:8080/"
        },
        "id": "VtaA8PMQYGI6",
        "outputId": "c140b11d-8890-4e50-b81c-32b7dff70c86"
      },
      "source": [
        "M1 + M2"
      ],
      "execution_count": null,
      "outputs": [
        {
          "output_type": "execute_result",
          "data": {
            "text/plain": [
              "array([[2, 4],\n",
              "       [6, 8]])"
            ]
          },
          "metadata": {
            "tags": []
          },
          "execution_count": 43
        }
      ]
    },
    {
      "cell_type": "code",
      "metadata": {
        "colab": {
          "base_uri": "https://localhost:8080/"
        },
        "id": "PSJ-E3M2boka",
        "outputId": "617e469d-d677-46e6-ad87-5ddde82c3a17"
      },
      "source": [
        "M1 - M2"
      ],
      "execution_count": null,
      "outputs": [
        {
          "output_type": "execute_result",
          "data": {
            "text/plain": [
              "array([[0, 0],\n",
              "       [0, 0]])"
            ]
          },
          "metadata": {
            "tags": []
          },
          "execution_count": 44
        }
      ]
    },
    {
      "cell_type": "code",
      "metadata": {
        "colab": {
          "base_uri": "https://localhost:8080/"
        },
        "id": "WHNZMDSuYKFt",
        "outputId": "3ba0c87d-9be4-4c87-a780-d7acc46f62e7"
      },
      "source": [
        "M1 * M2"
      ],
      "execution_count": null,
      "outputs": [
        {
          "output_type": "execute_result",
          "data": {
            "text/plain": [
              "array([[ 1,  4],\n",
              "       [ 9, 16]])"
            ]
          },
          "metadata": {
            "tags": []
          },
          "execution_count": 45
        }
      ]
    },
    {
      "cell_type": "code",
      "metadata": {
        "colab": {
          "base_uri": "https://localhost:8080/"
        },
        "id": "I_uxG3xHbd9J",
        "outputId": "d0f88db5-cbf3-4a37-f721-59e0b617c6b2"
      },
      "source": [
        "M1 / M2"
      ],
      "execution_count": null,
      "outputs": [
        {
          "output_type": "execute_result",
          "data": {
            "text/plain": [
              "array([[1., 1.],\n",
              "       [1., 1.]])"
            ]
          },
          "metadata": {
            "tags": []
          },
          "execution_count": 46
        }
      ]
    },
    {
      "cell_type": "markdown",
      "metadata": {
        "id": "8saouzlAb07i"
      },
      "source": [
        "# Produto de matrizes \n",
        "você pode usar o operador ‘@.’\n",
        "\n",
        "Em matemática, o produto de duas matrizes é definido somente quando o número de colunas da primeira matriz é igual ao número de linhas da segunda matriz. Se A é uma matriz m×n e B é uma matriz n×p, então seu produto é uma matriz m×p definida como AB.\n",
        "https://pt.wikipedia.org/wiki/Produto_de_matrizes\n"
      ]
    },
    {
      "cell_type": "markdown",
      "metadata": {
        "id": "KNYMxC1wiMDj"
      },
      "source": [
        "### Forma 1"
      ]
    },
    {
      "cell_type": "code",
      "metadata": {
        "colab": {
          "base_uri": "https://localhost:8080/"
        },
        "id": "8nEMc-sGbht-",
        "outputId": "cc7933a9-538c-4c49-e586-27bb3765b26c"
      },
      "source": [
        "M1 = np.array([[1,2],[3,4]])\n",
        "M2 = np.array([[1,2],[3,4]])\n",
        "\n",
        "M1 @ M2"
      ],
      "execution_count": null,
      "outputs": [
        {
          "output_type": "execute_result",
          "data": {
            "text/plain": [
              "array([[ 7, 10],\n",
              "       [15, 22]])"
            ]
          },
          "metadata": {
            "tags": []
          },
          "execution_count": 47
        }
      ]
    },
    {
      "cell_type": "markdown",
      "metadata": {
        "id": "HVTWT1OIiR8n"
      },
      "source": [
        "### Forma 2"
      ]
    },
    {
      "cell_type": "code",
      "metadata": {
        "colab": {
          "base_uri": "https://localhost:8080/"
        },
        "id": "hbxql4Xmf8BN",
        "outputId": "23eecbba-d6e6-4521-d70b-a7c3f9defc70"
      },
      "source": [
        "M1.dot(M2)"
      ],
      "execution_count": null,
      "outputs": [
        {
          "output_type": "execute_result",
          "data": {
            "text/plain": [
              "array([[ 7, 10],\n",
              "       [15, 22]])"
            ]
          },
          "metadata": {
            "tags": []
          },
          "execution_count": 48
        }
      ]
    },
    {
      "cell_type": "markdown",
      "metadata": {
        "id": "SSiA1z_4ia0w"
      },
      "source": [
        "# Funções aritméticas em Matrizes Numpy\n"
      ]
    },
    {
      "cell_type": "code",
      "metadata": {
        "id": "_BiVTXFjiIIn"
      },
      "source": [
        "matriz9 = np.array([1, 2, 3, 4, 5])"
      ],
      "execution_count": null,
      "outputs": []
    },
    {
      "cell_type": "code",
      "metadata": {
        "colab": {
          "base_uri": "https://localhost:8080/"
        },
        "id": "Ya7CNXXfinon",
        "outputId": "364c7d0a-f53c-4342-dad3-de4f42543928"
      },
      "source": [
        "# Soma dos elementos da matriz\n",
        "matriz9.sum()"
      ],
      "execution_count": null,
      "outputs": [
        {
          "output_type": "execute_result",
          "data": {
            "text/plain": [
              "15"
            ]
          },
          "metadata": {
            "tags": []
          },
          "execution_count": 50
        }
      ]
    },
    {
      "cell_type": "markdown",
      "metadata": {
        "id": "A1zGvKQqi8Ji"
      },
      "source": [
        "#### A função min encontra o valor mais baixo na matriz.\n"
      ]
    },
    {
      "cell_type": "code",
      "metadata": {
        "colab": {
          "base_uri": "https://localhost:8080/"
        },
        "id": "FXvMgLOBixXZ",
        "outputId": "589ed9e5-c10c-480e-8264-586328a54bc7"
      },
      "source": [
        "matriz9.min()"
      ],
      "execution_count": null,
      "outputs": [
        {
          "output_type": "execute_result",
          "data": {
            "text/plain": [
              "1"
            ]
          },
          "metadata": {
            "tags": []
          },
          "execution_count": 51
        }
      ]
    },
    {
      "cell_type": "markdown",
      "metadata": {
        "id": "Mm0ltUMckSHp"
      },
      "source": [
        "### O Maior elemento da Matriz"
      ]
    },
    {
      "cell_type": "code",
      "metadata": {
        "colab": {
          "base_uri": "https://localhost:8080/"
        },
        "id": "9NT6bxqBjBL2",
        "outputId": "c79fb416-d5c5-4bd1-df08-0c158fc53466"
      },
      "source": [
        "matriz9.max()"
      ],
      "execution_count": null,
      "outputs": [
        {
          "output_type": "execute_result",
          "data": {
            "text/plain": [
              "5"
            ]
          },
          "metadata": {
            "tags": []
          },
          "execution_count": 52
        }
      ]
    },
    {
      "cell_type": "markdown",
      "metadata": {
        "id": "8xlTIwahjVJH"
      },
      "source": [
        "### Média dos valores da Matriz"
      ]
    },
    {
      "cell_type": "code",
      "metadata": {
        "colab": {
          "base_uri": "https://localhost:8080/"
        },
        "id": "uVQ6VqSdjICe",
        "outputId": "de063148-01cb-44ca-eadb-c998d3151ab5"
      },
      "source": [
        "matriz9.mean()"
      ],
      "execution_count": null,
      "outputs": [
        {
          "output_type": "execute_result",
          "data": {
            "text/plain": [
              "3.0"
            ]
          },
          "metadata": {
            "tags": []
          },
          "execution_count": 53
        }
      ]
    },
    {
      "cell_type": "markdown",
      "metadata": {
        "id": "YhijbShOkJlJ"
      },
      "source": [
        "### Retorna o desvio padrão dos elementos da matriz ao longo do eixo fornecido.\n"
      ]
    },
    {
      "cell_type": "code",
      "metadata": {
        "colab": {
          "base_uri": "https://localhost:8080/"
        },
        "id": "Qat1Oc9SjUQX",
        "outputId": "34c6f590-c06f-463c-9d8e-15f36882274f"
      },
      "source": [
        "matriz9.std()"
      ],
      "execution_count": null,
      "outputs": [
        {
          "output_type": "execute_result",
          "data": {
            "text/plain": [
              "1.4142135623730951"
            ]
          },
          "metadata": {
            "tags": []
          },
          "execution_count": 54
        }
      ]
    },
    {
      "cell_type": "markdown",
      "metadata": {
        "id": "7_0nm14-0GHE"
      },
      "source": [
        "# Operadores aplicados aos eixos das matrizes\n",
        "\n",
        "Matrizes são formadas por eixos, uma matriz unidimencional possue 1 eixo, já uma matriz bi-dimencional possue 2 eixos e assim sucessivamente.\n",
        "vamos aplicar alguns parâmentros para trabalhar com os valores de uma matriz e fazer algumas operações aritiméticas "
      ]
    },
    {
      "cell_type": "code",
      "metadata": {
        "id": "yk2h49aGjrum",
        "colab": {
          "base_uri": "https://localhost:8080/"
        },
        "outputId": "9aac9108-eb83-4957-f6a1-5a2edaf52d9a"
      },
      "source": [
        "# Criando uma matriz Bidimencional\n",
        "matriz10 = np.array([[1, 2, 3, 4], [1, 2, 3, 4]])\n",
        "matriz10"
      ],
      "execution_count": null,
      "outputs": [
        {
          "output_type": "execute_result",
          "data": {
            "text/plain": [
              "array([[1, 2, 3, 4],\n",
              "       [1, 2, 3, 4]])"
            ]
          },
          "metadata": {
            "tags": []
          },
          "execution_count": 57
        }
      ]
    },
    {
      "cell_type": "markdown",
      "metadata": {
        "id": "GroxqH7v1PuZ"
      },
      "source": [
        "### Acessando os valores da coluna 1 dessa matriz"
      ]
    },
    {
      "cell_type": "code",
      "metadata": {
        "colab": {
          "base_uri": "https://localhost:8080/"
        },
        "id": "jfqPYc3l1WAt",
        "outputId": "03cc5565-1d09-4aa2-8973-5f3ebe2934ac"
      },
      "source": [
        "matriz10[:, 1]"
      ],
      "execution_count": null,
      "outputs": [
        {
          "output_type": "execute_result",
          "data": {
            "text/plain": [
              "array([2, 2])"
            ]
          },
          "metadata": {
            "tags": []
          },
          "execution_count": 58
        }
      ]
    },
    {
      "cell_type": "markdown",
      "metadata": {
        "id": "uq_ucj3Y1b7T"
      },
      "source": [
        "### Acessando os valores da linha 1 dessa matriz"
      ]
    },
    {
      "cell_type": "code",
      "metadata": {
        "colab": {
          "base_uri": "https://localhost:8080/"
        },
        "id": "pNdCoBMO09hW",
        "outputId": "a1d727c1-3c61-4838-8531-2afa75dc6529"
      },
      "source": [
        "matriz10[1, :]"
      ],
      "execution_count": null,
      "outputs": [
        {
          "output_type": "execute_result",
          "data": {
            "text/plain": [
              "array([1, 2, 3, 4])"
            ]
          },
          "metadata": {
            "tags": []
          },
          "execution_count": 60
        }
      ]
    },
    {
      "cell_type": "markdown",
      "metadata": {
        "id": "kesoJ7NN1pGa"
      },
      "source": [
        "# Execultando Operações Aritiméticas nos Eixos de uma Matriz"
      ]
    },
    {
      "cell_type": "markdown",
      "metadata": {
        "id": "wnq89rH32FSU"
      },
      "source": [
        "### Operadores Aritiméticas aplicado nas colunas de Uma *matriz*"
      ]
    },
    {
      "cell_type": "code",
      "metadata": {
        "colab": {
          "base_uri": "https://localhost:8080/"
        },
        "id": "ipZKFcJN1jGB",
        "outputId": "fa2700f6-8bfb-4720-ed13-abd90b03aeed"
      },
      "source": [
        "# Soma dos elementos da columa 2 da matriz10\n",
        "s_elemento_c2 = matriz10[:, 2].sum()\n",
        "\n",
        "# Multiplicação dos elementos da coluna 2 da Matriz10\n",
        "m_elemento_c2 = matriz10[:, 2].prod()\n",
        "\n",
        "# Print dos valores\n",
        "print(f\"Soma Elementos Coluna 1: {s_elemento_c2}\")\n",
        "print(f\"Multiploicação Elementos Coluna 1: {m_elemento_c2}\")\n"
      ],
      "execution_count": null,
      "outputs": [
        {
          "output_type": "stream",
          "text": [
            "Soma Elementos Coluna 1: 6\n",
            "Multiploicação Elementos Coluna 1: 9\n"
          ],
          "name": "stdout"
        }
      ]
    },
    {
      "cell_type": "markdown",
      "metadata": {
        "id": "X-05a2UO8E4-"
      },
      "source": [
        "Operações Aritiméticas nas linhas de Uma matriz"
      ]
    },
    {
      "cell_type": "code",
      "metadata": {
        "colab": {
          "base_uri": "https://localhost:8080/"
        },
        "id": "Tplrrx-K12yp",
        "outputId": "076bd3f1-f18a-4dec-8e64-a799d8bf2f78"
      },
      "source": [
        "# Soma dos elementos da linha 1 da matriz10\n",
        "s_elemento_l1 = matriz10[1, :].sum()\n",
        "\n",
        "# Multiplicação dos elementos da linha 1 da Matriz10\n",
        "m_elemento_l1 = matriz10[1, :].prod()\n",
        "\n",
        "# Print dos valores\n",
        "print(f\"Soma Elementos Linha 1: {s_elemento_l1}\")\n",
        "print(f\"Multiploicação Elementos Linha 1: {m_elemento_l1}\")"
      ],
      "execution_count": null,
      "outputs": [
        {
          "output_type": "stream",
          "text": [
            "Soma Elementos Linha 1: 10\n",
            "Multiploicação Elementos Linha 1: 24\n"
          ],
          "name": "stdout"
        }
      ]
    },
    {
      "cell_type": "markdown",
      "metadata": {
        "id": "J8OdMRkU2a4E"
      },
      "source": [
        "# Soma de cada coluna de uma Matriz"
      ]
    },
    {
      "cell_type": "code",
      "metadata": {
        "colab": {
          "base_uri": "https://localhost:8080/"
        },
        "id": "CKrjurLC2WeS",
        "outputId": "0e4008c5-0f6c-4d09-f4b5-327aec928afa"
      },
      "source": [
        "matriz10.sum(axis = 0)"
      ],
      "execution_count": null,
      "outputs": [
        {
          "output_type": "execute_result",
          "data": {
            "text/plain": [
              "array([2, 4, 6, 8])"
            ]
          },
          "metadata": {
            "tags": []
          },
          "execution_count": 69
        }
      ]
    },
    {
      "cell_type": "markdown",
      "metadata": {
        "id": "9oXL0nQJ33-_"
      },
      "source": [
        "### Soma dos elementos das linhas de uma matriz"
      ]
    },
    {
      "cell_type": "code",
      "metadata": {
        "colab": {
          "base_uri": "https://localhost:8080/"
        },
        "id": "IBwZXgtg2tiC",
        "outputId": "7dde59eb-cf7e-41d2-d0c4-ad1fe8d57fa1"
      },
      "source": [
        "matriz10.sum(axis = 1)"
      ],
      "execution_count": null,
      "outputs": [
        {
          "output_type": "execute_result",
          "data": {
            "text/plain": [
              "array([10, 10])"
            ]
          },
          "metadata": {
            "tags": []
          },
          "execution_count": 70
        }
      ]
    },
    {
      "cell_type": "markdown",
      "metadata": {
        "id": "9D_qni-_GATq"
      },
      "source": [
        "# Operadores lógicos em Numpy\n"
      ]
    },
    {
      "cell_type": "markdown",
      "metadata": {
        "id": "3kNPvm9GG4ma"
      },
      "source": [
        "### Operador AND "
      ]
    },
    {
      "cell_type": "code",
      "metadata": {
        "colab": {
          "base_uri": "https://localhost:8080/"
        },
        "id": "tiHGYAcf4Cr4",
        "outputId": "090d87d4-b7f1-4b51-df0d-6d8ec0937eeb"
      },
      "source": [
        "# Esse método é usado para comparar valores Booleanos AND \n",
        "np.logical_and(True, True)\n"
      ],
      "execution_count": null,
      "outputs": [
        {
          "output_type": "execute_result",
          "data": {
            "text/plain": [
              "True"
            ]
          },
          "metadata": {
            "tags": []
          },
          "execution_count": 89
        }
      ]
    },
    {
      "cell_type": "code",
      "metadata": {
        "colab": {
          "base_uri": "https://localhost:8080/"
        },
        "id": "zU7ma8VnGvCr",
        "outputId": "fece2c04-e1b8-41dd-ecd8-04ea8f77f40d"
      },
      "source": [
        "# Esse método é usado para comparar valores Booleanos AND \n",
        "np.logical_and(False, True)"
      ],
      "execution_count": null,
      "outputs": [
        {
          "output_type": "execute_result",
          "data": {
            "text/plain": [
              "False"
            ]
          },
          "metadata": {
            "tags": []
          },
          "execution_count": 90
        }
      ]
    },
    {
      "cell_type": "markdown",
      "metadata": {
        "id": "_xJehK7zG_PI"
      },
      "source": [
        "### Operador OR"
      ]
    },
    {
      "cell_type": "code",
      "metadata": {
        "colab": {
          "base_uri": "https://localhost:8080/"
        },
        "id": "zRaZdqtLGgaL",
        "outputId": "5e5359f9-3956-44da-87bc-09aa556d730c"
      },
      "source": [
        "np.logical_or(7>6,0>1)\n"
      ],
      "execution_count": null,
      "outputs": [
        {
          "output_type": "execute_result",
          "data": {
            "text/plain": [
              "True"
            ]
          },
          "metadata": {
            "tags": []
          },
          "execution_count": 91
        }
      ]
    },
    {
      "cell_type": "code",
      "metadata": {
        "colab": {
          "base_uri": "https://localhost:8080/"
        },
        "id": "WsRVN8_PGU4Z",
        "outputId": "7037026b-87d5-4796-9aaa-e95c696af77b"
      },
      "source": [
        "# Esse método é usado para comparar valores Booleanos OR\n",
        "np.logical_or(2>6,0>1)\n"
      ],
      "execution_count": null,
      "outputs": [
        {
          "output_type": "execute_result",
          "data": {
            "text/plain": [
              "False"
            ]
          },
          "metadata": {
            "tags": []
          },
          "execution_count": 92
        }
      ]
    },
    {
      "cell_type": "markdown",
      "metadata": {
        "id": "rN2HMTpzHKvx"
      },
      "source": [
        "### Operador NOT"
      ]
    },
    {
      "cell_type": "code",
      "metadata": {
        "colab": {
          "base_uri": "https://localhost:8080/"
        },
        "id": "RvllZXtZGjgi",
        "outputId": "db821135-7f0c-4256-b1bc-4da80302ee37"
      },
      "source": [
        "np.logical_not(False)"
      ],
      "execution_count": null,
      "outputs": [
        {
          "output_type": "execute_result",
          "data": {
            "text/plain": [
              "True"
            ]
          },
          "metadata": {
            "tags": []
          },
          "execution_count": 98
        }
      ]
    },
    {
      "cell_type": "code",
      "metadata": {
        "colab": {
          "base_uri": "https://localhost:8080/"
        },
        "id": "3zY4Ak_SHH1D",
        "outputId": "41d0f0a9-a7ea-4c84-a4a9-cd92bcb48833"
      },
      "source": [
        "np.logical_not(True)"
      ],
      "execution_count": null,
      "outputs": [
        {
          "output_type": "execute_result",
          "data": {
            "text/plain": [
              "False"
            ]
          },
          "metadata": {
            "tags": []
          },
          "execution_count": 99
        }
      ]
    },
    {
      "cell_type": "markdown",
      "metadata": {
        "id": "0Yv0WGvQHcVm"
      },
      "source": [
        "### Operador XOR"
      ]
    },
    {
      "cell_type": "code",
      "metadata": {
        "colab": {
          "base_uri": "https://localhost:8080/"
        },
        "id": "jh_qSArdHRfJ",
        "outputId": "ba463d08-e816-44bd-d47c-e298a8c9fc25"
      },
      "source": [
        "np.logical_xor(True, False)"
      ],
      "execution_count": null,
      "outputs": [
        {
          "output_type": "execute_result",
          "data": {
            "text/plain": [
              "True"
            ]
          },
          "metadata": {
            "tags": []
          },
          "execution_count": 102
        }
      ]
    },
    {
      "cell_type": "code",
      "metadata": {
        "colab": {
          "base_uri": "https://localhost:8080/"
        },
        "id": "G0hPo2PHHpmj",
        "outputId": "bf9b2b1f-fe92-41f4-ff55-98f43183d5c1"
      },
      "source": [
        "np.logical_xor([True, True, False, False], [True, False, True, False])"
      ],
      "execution_count": null,
      "outputs": [
        {
          "output_type": "execute_result",
          "data": {
            "text/plain": [
              "array([False,  True,  True, False])"
            ]
          },
          "metadata": {
            "tags": []
          },
          "execution_count": 103
        }
      ]
    },
    {
      "cell_type": "markdown",
      "metadata": {
        "id": "RWkZTkq8JHt0"
      },
      "source": [
        "# Operações Aritméticas"
      ]
    },
    {
      "cell_type": "markdown",
      "metadata": {
        "id": "UbMeTIUWKAgE"
      },
      "source": [
        "### Soma de matrizes"
      ]
    },
    {
      "cell_type": "code",
      "metadata": {
        "colab": {
          "base_uri": "https://localhost:8080/"
        },
        "id": "GY-gkfqHH_6X",
        "outputId": "5e2bdd27-1a50-45bf-dbd5-c258682e4643"
      },
      "source": [
        "matriz11 = np.arange(9).reshape(3,3)\n",
        "matriz11"
      ],
      "execution_count": null,
      "outputs": [
        {
          "output_type": "execute_result",
          "data": {
            "text/plain": [
              "array([[0, 1, 2],\n",
              "       [3, 4, 5],\n",
              "       [6, 7, 8]])"
            ]
          },
          "metadata": {
            "tags": []
          },
          "execution_count": 105
        }
      ]
    },
    {
      "cell_type": "code",
      "metadata": {
        "colab": {
          "base_uri": "https://localhost:8080/"
        },
        "id": "1pTr0gASJaHd",
        "outputId": "0783dc82-388c-439a-bf86-d52b89ea217e"
      },
      "source": [
        "matriz12 = np.array([1, 2, 3])\n",
        "matriz12"
      ],
      "execution_count": null,
      "outputs": [
        {
          "output_type": "execute_result",
          "data": {
            "text/plain": [
              "array([1, 2, 3])"
            ]
          },
          "metadata": {
            "tags": []
          },
          "execution_count": 108
        }
      ]
    },
    {
      "cell_type": "code",
      "metadata": {
        "colab": {
          "base_uri": "https://localhost:8080/"
        },
        "id": "aPZ7uAq9JmaI",
        "outputId": "6112e5a4-071e-4b01-db9a-64b60698b93f"
      },
      "source": [
        "add_matriz = np.add(matriz11, matriz12)\n",
        "add_matriz"
      ],
      "execution_count": null,
      "outputs": [
        {
          "output_type": "execute_result",
          "data": {
            "text/plain": [
              "array([[ 1,  3,  5],\n",
              "       [ 4,  6,  8],\n",
              "       [ 7,  9, 11]])"
            ]
          },
          "metadata": {
            "tags": []
          },
          "execution_count": 109
        }
      ]
    },
    {
      "cell_type": "markdown",
      "metadata": {
        "id": "Jxm8nKVeKFQh"
      },
      "source": [
        "### Subtração de elementos de matrizes"
      ]
    },
    {
      "cell_type": "code",
      "metadata": {
        "colab": {
          "base_uri": "https://localhost:8080/"
        },
        "id": "06dcGQQCJ2A-",
        "outputId": "cd613a62-0f55-4b7c-8560-4cf245a8be91"
      },
      "source": [
        "sub_matriz = np.subtract(matriz11, matriz12)\n",
        "sub_matriz"
      ],
      "execution_count": null,
      "outputs": [
        {
          "output_type": "execute_result",
          "data": {
            "text/plain": [
              "array([[-1, -1, -1],\n",
              "       [ 2,  2,  2],\n",
              "       [ 5,  5,  5]])"
            ]
          },
          "metadata": {
            "tags": []
          },
          "execution_count": 112
        }
      ]
    },
    {
      "cell_type": "markdown",
      "metadata": {
        "id": "MzPrqVF_LNxI"
      },
      "source": [
        "### Multiplicação de elementos entre matrizes"
      ]
    },
    {
      "cell_type": "code",
      "metadata": {
        "colab": {
          "base_uri": "https://localhost:8080/"
        },
        "id": "sVl8acqjKYH9",
        "outputId": "3baab705-d9d5-4d98-cea0-77372582d63a"
      },
      "source": [
        "mult_matriz = np.multiply(matriz11, matriz12)\n",
        "mult_matriz"
      ],
      "execution_count": null,
      "outputs": [
        {
          "output_type": "execute_result",
          "data": {
            "text/plain": [
              "array([[ 0,  2,  6],\n",
              "       [ 3,  8, 15],\n",
              "       [ 6, 14, 24]])"
            ]
          },
          "metadata": {
            "tags": []
          },
          "execution_count": 114
        }
      ]
    },
    {
      "cell_type": "markdown",
      "metadata": {
        "id": "25LYj2iFLruq"
      },
      "source": [
        "### Divisão de elementos entre matrizes"
      ]
    },
    {
      "cell_type": "code",
      "metadata": {
        "colab": {
          "base_uri": "https://localhost:8080/"
        },
        "id": "lvF7PtkrLfk2",
        "outputId": "6b49121b-f29f-490f-ba2a-3ce5e4a3a31f"
      },
      "source": [
        "div_matriz = np.divide(matriz11, matriz12)\n",
        "div_matriz"
      ],
      "execution_count": null,
      "outputs": [
        {
          "output_type": "execute_result",
          "data": {
            "text/plain": [
              "array([[0.        , 0.5       , 0.66666667],\n",
              "       [3.        , 2.        , 1.66666667],\n",
              "       [6.        , 3.5       , 2.66666667]])"
            ]
          },
          "metadata": {
            "tags": []
          },
          "execution_count": 116
        }
      ]
    },
    {
      "cell_type": "code",
      "metadata": {
        "id": "MLvStD84L40W"
      },
      "source": [
        ""
      ],
      "execution_count": null,
      "outputs": []
    }
  ]
}