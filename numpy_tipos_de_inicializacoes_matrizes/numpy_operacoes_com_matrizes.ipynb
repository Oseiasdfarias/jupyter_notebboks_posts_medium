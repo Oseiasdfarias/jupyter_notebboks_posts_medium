{
  "nbformat": 4,
  "nbformat_minor": 0,
  "metadata": {
    "colab": {
      "name": "numpy_operacoes_com_matrizes.ipynb",
      "provenance": []
    },
    "kernelspec": {
      "name": "python3",
      "display_name": "Python 3"
    },
    "language_info": {
      "name": "python"
    }
  },
  "cells": [
    {
      "cell_type": "markdown",
      "metadata": {
        "id": "HMZsmGX8Mr-r"
      },
      "source": [
        "# Tipos de Inicializações de Matrizes usando Numpy\n",
        "\n"
      ]
    },
    {
      "cell_type": "code",
      "metadata": {
        "id": "vuMYjhp6Myqv"
      },
      "source": [
        "import numpy as np\n",
        "import matplotlib.pyplot as plt\n",
        "\n",
        "%matplotlib inline"
      ],
      "execution_count": null,
      "outputs": []
    },
    {
      "cell_type": "markdown",
      "metadata": {
        "id": "-WXvu4O61hIr"
      },
      "source": [
        "O Método array da Biblioteca Numpy nos forcesse a possibilidade de criar matrizes de n-dimensões.\n",
        "\n",
        "Nesse exemplo vamos criar uma matriz 2D com 2 Linhas e 3 Colunas"
      ]
    },
    {
      "cell_type": "code",
      "metadata": {
        "id": "-UFlWhozNfp6",
        "colab": {
          "base_uri": "https://localhost:8080/"
        },
        "outputId": "d9829998-6d2f-4574-b584-76345b2b2573"
      },
      "source": [
        "matriz = np.array([[1, 2, 3], [4, 5, 6]])\n",
        "matriz"
      ],
      "execution_count": null,
      "outputs": [
        {
          "output_type": "execute_result",
          "data": {
            "text/plain": [
              "array([[1, 2, 3],\n",
              "       [4, 5, 6]])"
            ]
          },
          "metadata": {
            "tags": []
          },
          "execution_count": 56
        }
      ]
    },
    {
      "cell_type": "markdown",
      "metadata": {
        "id": "QqvPVAWMZCMx"
      },
      "source": [
        "ao criarmos a matriz assim, podemos obter algumas caracteristicas dessa matrix, que chamamos em python de atribultos\n",
        "\n",
        "Os atributos mais importantes de um objeto ndarray são:\n"
      ]
    },
    {
      "cell_type": "markdown",
      "metadata": {
        "id": "BlGiDUC7Zk6o"
      },
      "source": [
        "ndarray.ndim : o número de eixos (dimensões) da matriz."
      ]
    },
    {
      "cell_type": "code",
      "metadata": {
        "colab": {
          "base_uri": "https://localhost:8080/"
        },
        "id": "4CdCJu48N70G",
        "outputId": "8da3bfcf-2486-4815-88de-20838f6ee543"
      },
      "source": [
        "matriz.ndim"
      ],
      "execution_count": null,
      "outputs": [
        {
          "output_type": "execute_result",
          "data": {
            "text/plain": [
              "2"
            ]
          },
          "metadata": {
            "tags": []
          },
          "execution_count": 3
        }
      ]
    },
    {
      "cell_type": "markdown",
      "metadata": {
        "id": "-YrBPXXSZtmi"
      },
      "source": [
        "ndarray.shape: as dimensões da matriz"
      ]
    },
    {
      "cell_type": "code",
      "metadata": {
        "colab": {
          "base_uri": "https://localhost:8080/"
        },
        "id": "dwPLjs5aN9MI",
        "outputId": "3730841c-21b9-4301-92f4-515552fc1e3c"
      },
      "source": [
        "matriz.shape"
      ],
      "execution_count": null,
      "outputs": [
        {
          "output_type": "execute_result",
          "data": {
            "text/plain": [
              "(2, 3)"
            ]
          },
          "metadata": {
            "tags": []
          },
          "execution_count": 4
        }
      ]
    },
    {
      "cell_type": "markdown",
      "metadata": {
        "id": "fVJjYXh4Z-0C"
      },
      "source": [
        "ndarray.size: o número total de elementos da matriz."
      ]
    },
    {
      "cell_type": "code",
      "metadata": {
        "colab": {
          "base_uri": "https://localhost:8080/"
        },
        "id": "BtNCG6kzOVky",
        "outputId": "2bb83a9a-b95a-4457-d7bf-322ee7882912"
      },
      "source": [
        "matriz.size"
      ],
      "execution_count": null,
      "outputs": [
        {
          "output_type": "execute_result",
          "data": {
            "text/plain": [
              "6"
            ]
          },
          "metadata": {
            "tags": []
          },
          "execution_count": 5
        }
      ]
    },
    {
      "cell_type": "markdown",
      "metadata": {
        "id": "8Jyl0VKNaIcg"
      },
      "source": [
        "ndarray.dtype: um objeto que descreve o tipo dos elementos na matriz."
      ]
    },
    {
      "cell_type": "code",
      "metadata": {
        "id": "9lKQfe2IOhuB",
        "colab": {
          "base_uri": "https://localhost:8080/"
        },
        "outputId": "ce5b65e5-b383-43e5-b18e-804fd78e9f30"
      },
      "source": [
        "matriz.dtype"
      ],
      "execution_count": null,
      "outputs": [
        {
          "output_type": "execute_result",
          "data": {
            "text/plain": [
              "dtype('int64')"
            ]
          },
          "metadata": {
            "tags": []
          },
          "execution_count": 6
        }
      ]
    },
    {
      "cell_type": "markdown",
      "metadata": {
        "id": "KGtFSrSBaRnY"
      },
      "source": [
        "ndarray.itemsize: o tamanho em bytes de cada elemento da matriz\n",
        "\n",
        "Por exemplo, uma matriz de elementos do tipo float64 tem o tamanho de item 8 (= 64/8)."
      ]
    },
    {
      "cell_type": "code",
      "metadata": {
        "colab": {
          "base_uri": "https://localhost:8080/"
        },
        "id": "ao3qHh3maQpa",
        "outputId": "2cdadaf7-b3d5-4db6-ea95-2d60cd887eb9"
      },
      "source": [
        "matriz.itemsize"
      ],
      "execution_count": null,
      "outputs": [
        {
          "output_type": "execute_result",
          "data": {
            "text/plain": [
              "8"
            ]
          },
          "metadata": {
            "tags": []
          },
          "execution_count": 7
        }
      ]
    },
    {
      "cell_type": "markdown",
      "metadata": {
        "id": "wcrpfYZkavCy"
      },
      "source": [
        "o buffer que contém os elementos reais da matriz. Normalmente, não precisaremos usar este atributo porque acessaremos os elementos em uma matriz usando recursos de indexação.\n"
      ]
    },
    {
      "cell_type": "code",
      "metadata": {
        "colab": {
          "base_uri": "https://localhost:8080/"
        },
        "id": "quttm66TaZGR",
        "outputId": "af19e9c4-9cde-4643-a063-426257b97d15"
      },
      "source": [
        "matriz.data"
      ],
      "execution_count": null,
      "outputs": [
        {
          "output_type": "execute_result",
          "data": {
            "text/plain": [
              "<memory at 0x7fdb23014c90>"
            ]
          },
          "metadata": {
            "tags": []
          },
          "execution_count": 8
        }
      ]
    },
    {
      "cell_type": "code",
      "metadata": {
        "id": "dNBtf8uPAAAZ"
      },
      "source": [
        "print(f\"Dimensão da matriz: {matriz.ndim}\")\n",
        "print(f\"Shape da Matriz: {matriz.shape}\")\n",
        "print(f\"Número de elementos da Matriz: {matriz.size}\")\n",
        "print(f\"Tipo dos elementos da Matriz: {matriz.dtype}\")\n",
        "print(f\"Tamanho em Bytes de cada elemento da Matriz: {matriz.itemsize}\")\n",
        "print(f\"Local da menmória onde está alocado essa matriz: {matriz.data}\")"
      ],
      "execution_count": null,
      "outputs": []
    },
    {
      "cell_type": "markdown",
      "metadata": {
        "id": "D6Z_IvIRa7VS"
      },
      "source": [
        "# Inicialização de Matrizes\n",
        "Podemos inicializar matrizes de diferentes formas, vamos ver algumas delas"
      ]
    },
    {
      "cell_type": "markdown",
      "metadata": {
        "id": "t1Du3ATLb0vI"
      },
      "source": [
        "### numpy.arange\n",
        "\n",
        "Retorna valores com espaçamento uniforme dentro de um determinado intervalo.\n",
        "\n",
        "<code> numpy.arange(start, stop, step, dtype=None, *, like=None) </code>\n",
        "\n",
        "- Parameters\n",
        "\n",
        "  - start : integer or real, optional\n",
        "\n",
        "    Início do intervalo. O intervalo inclui esse valor. O valor inicial padrão é 0.\n",
        "\n",
        "  - stop : integer or real\n",
        "\n",
        "    Fim do intervalo. O intervalo não inclui esse valor, exceto em alguns casos em que a etapa não é um número inteiro e o arredondamento de ponto flutuante afeta o comprimento de fora.\n",
        "\n",
        "  - step : integer or real, optional\n",
        "\n",
        "    Espaçamento entre valores.\n"
      ]
    },
    {
      "cell_type": "code",
      "metadata": {
        "colab": {
          "base_uri": "https://localhost:8080/"
        },
        "id": "Lqp_werzatxJ",
        "outputId": "4f897410-6994-4b1b-eaf6-8d6124db06bd"
      },
      "source": [
        "matriz2 = np.arange(1,12,2)\n",
        "matriz2"
      ],
      "execution_count": null,
      "outputs": [
        {
          "output_type": "execute_result",
          "data": {
            "text/plain": [
              "array([ 1,  3,  5,  7,  9, 11])"
            ]
          },
          "metadata": {
            "tags": []
          },
          "execution_count": 13
        }
      ]
    },
    {
      "cell_type": "markdown",
      "metadata": {
        "id": "FKXVzNpueafY"
      },
      "source": [
        "ainda com o arange podemos usar o método reshape para modificar o shape da matriz"
      ]
    },
    {
      "cell_type": "code",
      "metadata": {
        "colab": {
          "base_uri": "https://localhost:8080/"
        },
        "id": "PriFXAjdePmk",
        "outputId": "420139f8-343c-46bb-8a0e-ccd9f59b11d9"
      },
      "source": [
        "matriz2 = matriz2.reshape(2, 3)\n",
        "matriz2"
      ],
      "execution_count": null,
      "outputs": [
        {
          "output_type": "execute_result",
          "data": {
            "text/plain": [
              "array([[ 1,  3,  5],\n",
              "       [ 7,  9, 11]])"
            ]
          },
          "metadata": {
            "tags": []
          },
          "execution_count": 18
        }
      ]
    },
    {
      "cell_type": "code",
      "metadata": {
        "id": "x4lC33Rte5VS",
        "colab": {
          "base_uri": "https://localhost:8080/"
        },
        "outputId": "9d9d491f-5db0-4e9a-e278-c6d730ee7dba"
      },
      "source": [
        "type(matriz)"
      ],
      "execution_count": null,
      "outputs": [
        {
          "output_type": "execute_result",
          "data": {
            "text/plain": [
              "numpy.ndarray"
            ]
          },
          "metadata": {
            "tags": []
          },
          "execution_count": 19
        }
      ]
    },
    {
      "cell_type": "markdown",
      "metadata": {
        "id": "q4G-pkSw3Or8"
      },
      "source": [
        "### numpy.zeros\n",
        "Esse método da biblioteca Numpy possibilita a inicialização de matrizes de n-dimensões com valores 0.\n",
        "\n",
        "<code> numpy.zeros(shape, dtype=float, order='C') </code>\n",
        "\n",
        "- Parâmetros\n",
        "\n",
        "  - shape\n",
        "\n",
        "    é a formato da matriz\n",
        "  - dtype\n",
        "  \n",
        "    Dtype: é o tipo de dados em zeros numpy. É opcional. O valor padrão é float64\n",
        "  - order\n",
        "\n",
        "    é um estilo de linha essencial para numpy.ones () em Python.\n"
      ]
    },
    {
      "cell_type": "markdown",
      "metadata": {
        "id": "zLosGMgU4Q6H"
      },
      "source": [
        "Obs: todas essas inicializações por ser um objeto numpy tem dodos os atrbultos descritos nas etapas anteriores, como: ndarray.ndim, ndarray.shape, ndarray.size, ndarray.dtype etc."
      ]
    },
    {
      "cell_type": "code",
      "metadata": {
        "colab": {
          "base_uri": "https://localhost:8080/"
        },
        "id": "3mEWx9Ky3Dzq",
        "outputId": "94bc683b-ceb5-4810-9896-945655106b72"
      },
      "source": [
        "matriz_zeros = np.zeros((3, 3))\n",
        "matriz_zeros"
      ],
      "execution_count": null,
      "outputs": [
        {
          "output_type": "execute_result",
          "data": {
            "text/plain": [
              "array([[0., 0., 0.],\n",
              "       [0., 0., 0.],\n",
              "       [0., 0., 0.]])"
            ]
          },
          "metadata": {
            "tags": []
          },
          "execution_count": 21
        }
      ]
    },
    {
      "cell_type": "code",
      "metadata": {
        "colab": {
          "base_uri": "https://localhost:8080/"
        },
        "id": "-B8eiZls4F-_",
        "outputId": "d67ba10f-d697-4e1a-bae4-731c13eed3ee"
      },
      "source": [
        "matriz_zeros.dtype"
      ],
      "execution_count": null,
      "outputs": [
        {
          "output_type": "execute_result",
          "data": {
            "text/plain": [
              "dtype('float64')"
            ]
          },
          "metadata": {
            "tags": []
          },
          "execution_count": 22
        }
      ]
    },
    {
      "cell_type": "markdown",
      "metadata": {
        "id": "fPCMVpOr445b"
      },
      "source": [
        "### numpy.ones\n",
        "Esse método possibilita a inicialização de matrizes de n-dimensões com valores 1.\n",
        "\n",
        "<code> numpy.ones(shape, dtype=float, order='C') </code>\n",
        "\n",
        "\n",
        "Obs: Possue os mesmos atribultos do método numpy.zeros"
      ]
    },
    {
      "cell_type": "code",
      "metadata": {
        "colab": {
          "base_uri": "https://localhost:8080/"
        },
        "id": "6N7sdiA043LZ",
        "outputId": "672a2327-effb-43ce-c75a-aee3022c77e0"
      },
      "source": [
        "matriz_uns = np.ones((2, 3, 3), dtype = \"int64\", order = \"C\")\n",
        "matriz_uns"
      ],
      "execution_count": null,
      "outputs": [
        {
          "output_type": "execute_result",
          "data": {
            "text/plain": [
              "array([[[1, 1, 1],\n",
              "        [1, 1, 1],\n",
              "        [1, 1, 1]],\n",
              "\n",
              "       [[1, 1, 1],\n",
              "        [1, 1, 1],\n",
              "        [1, 1, 1]]])"
            ]
          },
          "metadata": {
            "tags": []
          },
          "execution_count": 27
        }
      ]
    },
    {
      "cell_type": "code",
      "metadata": {
        "colab": {
          "base_uri": "https://localhost:8080/"
        },
        "id": "fsJ6Zl0m5aL9",
        "outputId": "df357b05-4a4b-450a-b55c-3ac2aeb7d40f"
      },
      "source": [
        "matriz_uns.dtype"
      ],
      "execution_count": null,
      "outputs": [
        {
          "output_type": "execute_result",
          "data": {
            "text/plain": [
              "dtype('int64')"
            ]
          },
          "metadata": {
            "tags": []
          },
          "execution_count": 28
        }
      ]
    },
    {
      "cell_type": "markdown",
      "metadata": {
        "id": "3X6shc4F9Xwo"
      },
      "source": [
        "### numpy.empty\n",
        "\n",
        "Esse método é usada para criar uma matriz sem inicializar, os valores mostrados são chamados de lixo de memória, ou seja, são valores que já estavam na menmória antes de criar a matriz, esse método é conveniente quando se quer criar matrizes rapidamente, pois ela tem uma maior perfomasse para serem criadas.\n",
        "\n",
        "<code> numpy.empty(shape, dtype=float, order='C') </code>\n"
      ]
    },
    {
      "cell_type": "code",
      "metadata": {
        "colab": {
          "base_uri": "https://localhost:8080/"
        },
        "id": "OXVZaRYm7xiz",
        "outputId": "a4f6e95d-dc65-4f79-b323-0870d00b8069"
      },
      "source": [
        "matriz_empty = np.empty((2, 3, 2), dtype = \"float64\", order = \"C\")\n",
        "matriz_empty"
      ],
      "execution_count": null,
      "outputs": [
        {
          "output_type": "execute_result",
          "data": {
            "text/plain": [
              "array([[[4.64676688e-310, 2.47032823e-322],\n",
              "        [0.00000000e+000, 0.00000000e+000],\n",
              "        [0.00000000e+000, 1.58817677e-052]],\n",
              "\n",
              "       [[5.27966871e-091, 4.74968792e+174],\n",
              "        [5.54476431e+169, 8.23035692e-067],\n",
              "        [3.99910963e+252, 1.46030983e-319]]])"
            ]
          },
          "metadata": {
            "tags": []
          },
          "execution_count": 31
        }
      ]
    },
    {
      "cell_type": "code",
      "metadata": {
        "colab": {
          "base_uri": "https://localhost:8080/"
        },
        "id": "geUuW6d6-J3z",
        "outputId": "9a7b37b7-b4da-419f-f15d-85af53a36c2d"
      },
      "source": [
        "matriz_empty.shape"
      ],
      "execution_count": null,
      "outputs": [
        {
          "output_type": "execute_result",
          "data": {
            "text/plain": [
              "(2, 3, 2)"
            ]
          },
          "metadata": {
            "tags": []
          },
          "execution_count": 32
        }
      ]
    },
    {
      "cell_type": "markdown",
      "metadata": {
        "id": "mHyILWkV_EDe"
      },
      "source": [
        "### numpy.linspace\n",
        "\n",
        "<code> numpy.linspace(start, stop, num=50, endpoint=True, retstep=False, dtype=None, axis=0) </code>\n",
        "\n",
        "- Parâmetros\n",
        "\n",
        "  - start\n",
        "\n",
        "    O valor inicial da sequência.\n",
        "  - stop\n",
        "  \n",
        "    O valor final da sequência\n",
        "  - num\n",
        "\n",
        "    Número de amostras a serem geradas. O padrão é 50. Não deve ser negativo.\n",
        "\n",
        "  - endpoint\n",
        "\n",
        "    Se for True, stop é a última amostra. Caso contrário, não está incluído. O padrão é True.\n",
        "\n",
        "  - retstep\n",
        "\n",
        "    Se for True, retorna (samples, step), onde step é o espaçamento entre as amostras.\n",
        "\n",
        "  - dtype\n",
        "\n",
        "    O tipo da matriz de saída.\n",
        "\n",
        "  - axis\n",
        "\n",
        "    O eixo no resultado para armazenar as amostras. Relevante apenas se start ou stop forem semelhantes a array. Por padrão (0), as amostras estarão ao longo de um novo eixo inserido no início. Use -1 para obter um eixo no final.\n",
        "\n",
        "  - Returns\n",
        "\n",
        "    Existem núm amostras igualmente espaçadas no intervalo fechado [iniciar, parar] ou no intervalo semi-aberto [iniciar, parar) (dependendo se o ponto final é Verdadeiro ou Falso).\n",
        "\n",
        "  - step\n",
        "\n",
        "    Retornado apenas se retstep for True Tamanho do espaçamento entre as amostras.\n"
      ]
    },
    {
      "cell_type": "code",
      "metadata": {
        "colab": {
          "base_uri": "https://localhost:8080/"
        },
        "id": "Jx3uAb0V_CiH",
        "outputId": "f99b8882-072c-44f0-f690-963c0fb844e9"
      },
      "source": [
        "matriz_linspace = np.linspace(0, 10, num=20, dtype = \"float64\")\n",
        "matriz_linspace"
      ],
      "execution_count": null,
      "outputs": [
        {
          "output_type": "execute_result",
          "data": {
            "text/plain": [
              "array([ 0.        ,  0.52631579,  1.05263158,  1.57894737,  2.10526316,\n",
              "        2.63157895,  3.15789474,  3.68421053,  4.21052632,  4.73684211,\n",
              "        5.26315789,  5.78947368,  6.31578947,  6.84210526,  7.36842105,\n",
              "        7.89473684,  8.42105263,  8.94736842,  9.47368421, 10.        ])"
            ]
          },
          "metadata": {
            "tags": []
          },
          "execution_count": 43
        }
      ]
    },
    {
      "cell_type": "code",
      "metadata": {
        "id": "KWmoueFw_S0q"
      },
      "source": [
        ""
      ],
      "execution_count": null,
      "outputs": []
    }
  ]
}